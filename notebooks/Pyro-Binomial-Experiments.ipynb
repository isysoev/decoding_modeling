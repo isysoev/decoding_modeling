{
 "cells": [
  {
   "cell_type": "code",
   "execution_count": 27,
   "metadata": {},
   "outputs": [],
   "source": [
    "import torch\n",
    "import math\n",
    "import pyro\n",
    "from pyro.infer import HMC, MCMC, SVI, Trace_ELBO\n",
    "from pyro.optim import ClippedAdam\n",
    "from pyro.distributions import LogNormal, Binomial\n",
    "from torch.distributions import constraints\n",
    "import numpy as np\n",
    "import matplotlib.pyplot as plt\n",
    "import scipy.stats as scistats\n",
    "from scipy.special import binom\n",
    "from collections import defaultdict"
   ]
  },
  {
   "cell_type": "code",
   "execution_count": 20,
   "metadata": {},
   "outputs": [],
   "source": [
    "# -*- coding: utf-8 -*-\n",
    "\n",
    "import codecs\n",
    "\n",
    "def get_basic_phoneme(phoneme):\n",
    "\tif phoneme[-1].isdigit():\n",
    "\t\treturn phoneme[:-1]\n",
    "\treturn phoneme\n",
    "\n",
    "def get_phonemes(phonemes_code):\n",
    "\treturn tuple([get_basic_phoneme(phoneme_code) for phoneme_code in phonemes_code.split(';')])\n",
    "\n",
    "def get_pg_pair(pg_pair_code):\n",
    "\tphonemes_code, grapheme = pg_pair_code.split('>')\n",
    "\treturn (get_phonemes(phonemes_code), grapheme)\n",
    "\n",
    "def get_mapping(mapping_code):\n",
    "\treturn tuple([get_pg_pair(pg_pair_code) for pg_pair_code in mapping_code.split('|')])\n",
    "\n",
    "def read_phonix(input_file_name):\n",
    "\tphonix = []\n",
    "\twith codecs.open(input_file_name, encoding = 'utf-8') as input_file:\n",
    "\t\tfor line in input_file:\n",
    "\t\t\tline = line.strip()\n",
    "\t\t\tif not line: continue\n",
    "\t\t\tword, mapping_code = line.split(' ')\n",
    "\t\t\tphonix.append((word, get_mapping(mapping_code)))\n",
    "\treturn phonix\n",
    "\n",
    "def pg_pair_to_str(pg_pair):\n",
    "\tphonemes, grapheme = pg_pair\n",
    "\treturn '%s>%s' % (';'.join(phonemes), grapheme)\n",
    "\n",
    "def mapping_to_str(mapping):\n",
    "\treturn '|'.join(pg_pair_to_str(pg_pair) for pg_pair in mapping)"
   ]
  },
  {
   "cell_type": "code",
   "execution_count": 21,
   "metadata": {},
   "outputs": [],
   "source": [
    "def read_freq_list(freq_file_name):\n",
    "    wordfreqs = {}\n",
    "    with open(freq_file_name) as input_file:\n",
    "        for line in input_file:\n",
    "            line = line.strip()\n",
    "            word, freq = line.split(' ')\n",
    "            freq = float(freq)\n",
    "            wordfreqs[word] = freq\n",
    "    return wordfreqs"
   ]
  },
  {
   "cell_type": "code",
   "execution_count": 22,
   "metadata": {},
   "outputs": [],
   "source": [
    "phonix = read_phonix('../data/phonix.txt')\n",
    "phonix_dict = dict(phonix)\n",
    "wordfreqs = read_freq_list('../data/word-freqs.txt')"
   ]
  },
  {
   "cell_type": "code",
   "execution_count": 23,
   "metadata": {},
   "outputs": [],
   "source": [
    "def normalize(distr):\n",
    "    denominator = sum(distr.values())\n",
    "    return {key: float(value) / denominator for key, value in distr.items()}"
   ]
  },
  {
   "cell_type": "code",
   "execution_count": 24,
   "metadata": {},
   "outputs": [],
   "source": [
    "def get_pg_freqs(wordfreqs, phonix):\n",
    "    aggregator = defaultdict(float)\n",
    "    for word, mapping in phonix:\n",
    "        if word not in wordfreqs: continue\n",
    "        wordfreq = wordfreqs[word]\n",
    "        for pg in mapping:\n",
    "            aggregator[pg_pair_to_str(pg)] += wordfreq\n",
    "    return normalize(aggregator)"
   ]
  },
  {
   "cell_type": "code",
   "execution_count": 28,
   "metadata": {},
   "outputs": [],
   "source": [
    "pg_freqs = get_pg_freqs(wordfreqs, phonix)\n",
    "pgs = sorted(pg_freqs.keys(), key = lambda pg: pg_freqs[pg], reverse=True) # just wanted to sort it to have an intuitive ordering of pg-pairs\n",
    "ps = np.array([pg_freqs[pg] for pg in pgs])\n",
    "pg_idx = {pg : i for i, pg in enumerate(pgs)}"
   ]
  },
  {
   "cell_type": "code",
   "execution_count": 29,
   "metadata": {},
   "outputs": [],
   "source": [
    "observations = [(\"cat\", True), (\"dog\", True), (\"dinosaur\", False)]"
   ]
  },
  {
   "cell_type": "code",
   "execution_count": 30,
   "metadata": {},
   "outputs": [],
   "source": [
    "def word_pgs(word):\n",
    "    return [pg_pair_to_str(pg) for pg in phonix_dict[word]]"
   ]
  },
  {
   "cell_type": "code",
   "execution_count": 31,
   "metadata": {},
   "outputs": [],
   "source": [
    "def observed_pgs(observations):\n",
    "    pgs = set()\n",
    "    for word, obs in observations:\n",
    "        pgs.update(word_pgs(word))\n",
    "    return pgs"
   ]
  },
  {
   "cell_type": "code",
   "execution_count": null,
   "metadata": {},
   "outputs": [],
   "source": []
  },
  {
   "cell_type": "code",
   "execution_count": 32,
   "metadata": {},
   "outputs": [],
   "source": [
    "#prior specifies our prior belief regarding how much pg-pairs the child could have been exposed to\n",
    "prior_mu = np.log(500) # means that the median pg-pair exposure in our prior belief is 500\n",
    "prior_sigma = 0.1 # specifies how spreaded the prior is. For the actual modeling, we want it to be \n",
    "                  # quite spreaded. So, the value around 2-3 shall be best. I put it small here to better\n",
    "                  # show how prior belief can influence our posterior belief."
   ]
  },
  {
   "cell_type": "code",
   "execution_count": 33,
   "metadata": {},
   "outputs": [],
   "source": [
    "p_th = 0.01 # probability of our target pg-pair, derived from corpus\n",
    "n_th_observed = 0 # how much the kid saw this pg-pair\n",
    "observations = torch.tensor([n_th_observed])"
   ]
  },
  {
   "cell_type": "code",
   "execution_count": 34,
   "metadata": {},
   "outputs": [],
   "source": [
    "nmax = 10000 # for our simple model, we are going to first do exact posterior calculation. This is very fast\n",
    "            # with this model, but it will become infeasible with more complex models. We want some reasonable\n",
    "            # range of possible pg-exposures for this computation. Let's say that it is about 0 and 10000."
   ]
  },
  {
   "cell_type": "code",
   "execution_count": 35,
   "metadata": {},
   "outputs": [],
   "source": [
    "# this function computes the discretized lognormal probabilities for a certain range. It uses integral\n",
    "# over PDF (probability density function) of normal distribution between f(x[i]) and f(x[i+1]), where\n",
    "# f is the inverse of the transform between normal and lognormal. This integral is\n",
    "# expressed via CDF (cumulative density function) of the normal distribution\n",
    "def lognorm_probs(mu, sigma, maxn):\n",
    "    xs = np.arange(maxn + 1)\n",
    "    cdfs = np.zeros_like(xs, dtype = float)\n",
    "    cdfs[xs > 0] = scistats.norm.cdf((np.log(xs[xs > 0]) - mu) / sigma)\n",
    "    return cdfs[1:] - cdfs[:-1]"
   ]
  },
  {
   "cell_type": "code",
   "execution_count": 36,
   "metadata": {},
   "outputs": [],
   "source": [
    "prior_ps = lognorm_probs(prior_mu, prior_sigma, nmax)"
   ]
  },
  {
   "cell_type": "code",
   "execution_count": 37,
   "metadata": {},
   "outputs": [],
   "source": [
    "# this function computes posterior probabilities using the bayes rule. we can do it in this case,\n",
    "# because we can easily enumerate all hidden states\n",
    "# prior_probs is the prior probability of total pg number, p is the probability of a pg-pair,\n",
    "# and obs is the observed number of this pg-pair\n",
    "def posterior_probs(prior_probs, p, obs):\n",
    "    observation_probs = np.zeros_like(prior_probs, dtype = float)\n",
    "    # compute the probability of sampling the observed number of this pg-pair for all possible total pg-numbers:\n",
    "    observation_probs[obs:] = binom(np.arange(obs, nmax), obs) * np.power((1 - p), np.arange(nmax - obs))\n",
    "    # applying the Bayes rule: multiply prior probabilities by observation probabilities, then re-normalize:\n",
    "    posterior_ps = prior_probs * observation_probs\n",
    "    posterior_ps /= np.sum(posterior_ps)\n",
    "    return posterior_ps"
   ]
  },
  {
   "cell_type": "code",
   "execution_count": 38,
   "metadata": {},
   "outputs": [],
   "source": [
    "post_ps = posterior_probs(prior_ps, p_th, n_th_observed)"
   ]
  },
  {
   "cell_type": "code",
   "execution_count": 9,
   "metadata": {},
   "outputs": [
    {
     "data": {
      "text/plain": [
       "[<matplotlib.lines.Line2D at 0x13327d350>]"
      ]
     },
     "execution_count": 9,
     "metadata": {},
     "output_type": "execute_result"
    },
    {
     "data": {
      "image/png": "[encoded data removed]",
      "text/plain": [
       "<Figure size 432x288 with 1 Axes>"
      ]
     },
     "metadata": {
      "needs_background": "light"
     },
     "output_type": "display_data"
    }
   ],
   "source": [
    "# look at our posterior! It does look pretty much lognormal. Intuitively, that makes a lot of sense:\n",
    "# lognormal sort of specifies the order of magnitude of the target value; the bigger it is, the less\n",
    "# precise the measurement becomes (the error is proportional to the value). And it make sense that when\n",
    "# we estimate the number of pg-pairs the kid was exposed to, we also are going to get more of an order of\n",
    "# magnitude than exact number.\n",
    "\n",
    "plt.plot(prior_ps[:1000])\n",
    "plt.plot(post_ps[:1000])"
   ]
  },
  {
   "cell_type": "code",
   "execution_count": 10,
   "metadata": {},
   "outputs": [],
   "source": [
    "# this is the model that we would actually want to have. However, I didn't have much luck running it:\n",
    "# neither with sampling (very slow), nor with variational inference (doesn't converge)\n",
    "def ideal_model(observations):\n",
    "    log_n = pyro.sample(\"log_n_pg_exposed\", pyro.distributions.Normal(prior_mu, prior_sigma))\n",
    "    pyro.sample(\"n_th_exposed\", pyro.distributions.Binomial(total_count = torch.exp(log_n), probs = p_th), obs = observations[0]) "
   ]
  },
  {
   "cell_type": "code",
   "execution_count": 11,
   "metadata": {},
   "outputs": [],
   "source": [
    "# this is a model that replaces the binomial with its continuous approximation (from Central Limit Theorem)\n",
    "# this seems to actually work\n",
    "def approximate_model(observations):\n",
    "    log_n = pyro.sample(\"log_n_pg_exposed\", pyro.distributions.Normal(prior_mu, prior_sigma))\n",
    "    n = torch.exp(log_n)\n",
    "    pyro.sample(\"n_th_exposed\", pyro.distributions.Normal(loc = n * p_th, scale = math.sqrt(n * p_th * (1 - p_th))), obs = observations[0])"
   ]
  },
  {
   "cell_type": "code",
   "execution_count": 12,
   "metadata": {},
   "outputs": [],
   "source": [
    "# this is how we would run sampling. Doesn't work! Way too slow!\n",
    "\n",
    "# pyro.clear_param_store()\n",
    "# my_kernel = HMC(model)\n",
    "# my_mcmc = MCMC(my_kernel,\n",
    "#                num_samples=1000,\n",
    "#                warmup_steps=100)\n",
    "# my_mcmc.run(observations)"
   ]
  },
  {
   "cell_type": "code",
   "execution_count": 13,
   "metadata": {},
   "outputs": [],
   "source": [
    "# This function parametrizes the posterior. Based on considerations described above, I chose the posterior\n",
    "# number of pg-exposures to come from log-normal. Here, I actually chose to parametrize the log of this value\n",
    "# (using normal). I think the log parametrization is going to be better, because it naturally accounts for the\n",
    "# fact that the higher is the mu, the less precision we are going to have.\n",
    "\n",
    "# I initialize the posterior with the same mu as the prior - it seems to converge quite well\n",
    "# from that point. But different initializations could be tried.\n",
    "\n",
    "def guide(observations):\n",
    "    mu = pyro.param(\"mu\", torch.tensor(prior_mu))\n",
    "    sigma = pyro.param(\"sigma\", torch.tensor(2), constraint=constraints.positive)\n",
    "    pyro.sample(\"log_n_pg_exposed\", pyro.distributions.Normal(mu, sigma))"
   ]
  },
  {
   "cell_type": "code",
   "execution_count": 14,
   "metadata": {},
   "outputs": [
    {
     "name": "stdout",
     "output_type": "stream",
     "text": [
      "0\n",
      "100\n",
      "200\n",
      "300\n",
      "400\n",
      "500\n",
      "600\n",
      "700\n",
      "800\n",
      "900\n",
      "1000\n",
      "1100\n",
      "1200\n",
      "1300\n",
      "1400\n",
      "1500\n",
      "1600\n",
      "1700\n",
      "1800\n",
      "1900\n",
      "2000\n",
      "2100\n",
      "2200\n",
      "2300\n",
      "2400\n",
      "2500\n",
      "2600\n",
      "2700\n",
      "2800\n",
      "2900\n",
      "3000\n",
      "3100\n",
      "3200\n",
      "3300\n",
      "3400\n",
      "3500\n",
      "3600\n",
      "3700\n",
      "3800\n",
      "3900\n",
      "4000\n",
      "4100\n",
      "4200\n",
      "4300\n",
      "4400\n",
      "4500\n",
      "4600\n",
      "4700\n",
      "4800\n",
      "4900\n",
      "5000\n",
      "5100\n",
      "5200\n",
      "5300\n",
      "5400\n",
      "5500\n",
      "5600\n",
      "5700\n",
      "5800\n",
      "5900\n",
      "6000\n",
      "6100\n",
      "6200\n",
      "6300\n",
      "6400\n",
      "6500\n",
      "6600\n",
      "6700\n",
      "6800\n",
      "6900\n",
      "7000\n",
      "7100\n",
      "7200\n",
      "7300\n",
      "7400\n",
      "7500\n",
      "7600\n",
      "7700\n",
      "7800\n",
      "7900\n",
      "8000\n",
      "8100\n",
      "8200\n",
      "8300\n",
      "8400\n",
      "8500\n",
      "8600\n",
      "8700\n",
      "8800\n",
      "8900\n",
      "9000\n",
      "9100\n",
      "9200\n",
      "9300\n",
      "9400\n",
      "9500\n",
      "9600\n",
      "9700\n",
      "9800\n",
      "9900\n"
     ]
    }
   ],
   "source": [
    "pyro.clear_param_store()\n",
    "\n",
    "# Define our SVI algorithm. It accepts our model\n",
    "# our guide, an optimizer, and a loss function\n",
    "# to maximize\n",
    "svi = SVI(model=approximate_model,\n",
    "             guide=guide,\n",
    "             optim=ClippedAdam({\"lr\": 0.001}),\n",
    "             loss=Trace_ELBO())\n",
    "\n",
    "# Decide on the number of optimization steps to \n",
    "# take, and run the optimizer for that\n",
    "# many steps.\n",
    "\n",
    "# We sent the parameters into model and guide\n",
    "# in the .step() function\n",
    "\n",
    "optimization_steps = 10000\n",
    "losses, mus, sigmas  = [], [], []\n",
    "for i in range(10000):\n",
    "    if 0 == i % 100: print(i)\n",
    "    losses.append(svi.step(observations))\n",
    "    mus.append(pyro.param(\"mu\").item())\n",
    "    sigmas.append(pyro.param(\"sigma\").item())"
   ]
  },
  {
   "cell_type": "code",
   "execution_count": 15,
   "metadata": {},
   "outputs": [
    {
     "data": {
      "text/plain": [
       "[<matplotlib.lines.Line2D at 0x13352b510>]"
      ]
     },
     "execution_count": 15,
     "metadata": {},
     "output_type": "execute_result"
    },
    {
     "data": {
      "image/png": "[encoded data removed]",
      "text/plain": [
       "<Figure size 432x288 with 1 Axes>"
      ]
     },
     "metadata": {
      "needs_background": "light"
     },
     "output_type": "display_data"
    }
   ],
   "source": [
    "plt.plot(losses)"
   ]
  },
  {
   "cell_type": "code",
   "execution_count": 16,
   "metadata": {},
   "outputs": [
    {
     "data": {
      "text/plain": [
       "[<matplotlib.lines.Line2D at 0x13362ee10>]"
      ]
     },
     "execution_count": 16,
     "metadata": {},
     "output_type": "execute_result"
    },
    {
     "data": {
      "image/png": "[encoded data removed]",
      "text/plain": [
       "<Figure size 432x288 with 1 Axes>"
      ]
     },
     "metadata": {
      "needs_background": "light"
     },
     "output_type": "display_data"
    }
   ],
   "source": [
    "plt.plot(mus)"
   ]
  },
  {
   "cell_type": "code",
   "execution_count": 17,
   "metadata": {},
   "outputs": [
    {
     "data": {
      "text/plain": [
       "[<matplotlib.lines.Line2D at 0x1337a00d0>]"
      ]
     },
     "execution_count": 17,
     "metadata": {},
     "output_type": "execute_result"
    },
    {
     "data": {
      "image/png": "[encoded data removed]",
      "text/plain": [
       "<Figure size 432x288 with 1 Axes>"
      ]
     },
     "metadata": {
      "needs_background": "light"
     },
     "output_type": "display_data"
    }
   ],
   "source": [
    "plt.plot(sigmas)"
   ]
  },
  {
   "cell_type": "code",
   "execution_count": 18,
   "metadata": {},
   "outputs": [],
   "source": [
    "# let's convert our predicted mu and sigma (the last ones in the iteration chain) \n",
    "# into the posterior probability distribution!\n",
    "variational_posterior = lognorm_probs(mus[-1], sigmas[-1], nmax)"
   ]
  },
  {
   "cell_type": "code",
   "execution_count": 19,
   "metadata": {},
   "outputs": [
    {
     "data": {
      "text/plain": [
       "[<matplotlib.lines.Line2D at 0x13383d3d0>]"
      ]
     },
     "execution_count": 19,
     "metadata": {},
     "output_type": "execute_result"
    },
    {
     "data": {
      "image/png": "[encoded data removed]",
      "text/plain": [
       "<Figure size 1080x288 with 1 Axes>"
      ]
     },
     "metadata": {
      "needs_background": "light"
     },
     "output_type": "display_data"
    }
   ],
   "source": [
    "# the match seems to be quite good!\n",
    "plt.gcf().set_size_inches(15, 4)\n",
    "plt.plot(post_ps[:1000])\n",
    "plt.plot(variational_posterior[:1000])"
   ]
  },
  {
   "cell_type": "code",
   "execution_count": null,
   "metadata": {},
   "outputs": [],
   "source": []
  }
 ],
 "metadata": {
  "kernelspec": {
   "display_name": "Python 3",
   "language": "python",
   "name": "python3"
  },
  "language_info": {
   "codemirror_mode": {
    "name": "ipython",
    "version": 3
   },
   "file_extension": ".py",
   "mimetype": "text/x-python",
   "name": "python",
   "nbconvert_exporter": "python",
   "pygments_lexer": "ipython3",
   "version": "3.7.4"
  }
 },
 "nbformat": 4,
 "nbformat_minor": 2
}
