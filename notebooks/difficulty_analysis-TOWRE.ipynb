{
 "cells": [
  {
   "cell_type": "code",
   "execution_count": 2,
   "metadata": {
    "id": "CQaLvAaO7bnB"
   },
   "outputs": [],
   "source": [
    "import pymc3 as pm\n",
    "import numpy as np\n",
    "\n",
    "import torch\n",
    "from torch.distributions import * \n",
    "\n",
    "import matplotlib.pyplot as plt\n",
    "import scipy.stats as scistats\n",
    "from scipy.special import binom\n",
    "\n",
    "from collections import defaultdict\n",
    "\n",
    "from functools import reduce\n",
    "import seaborn as sb\n",
    "\n",
    "import pandas as pd"
   ]
  },
  {
   "cell_type": "code",
   "execution_count": 3,
   "metadata": {
    "id": "DZAvrsri8i4G"
   },
   "outputs": [],
   "source": [
    "DATA_PATH = '../data'\n",
    "import os\n",
    "import h5py\n",
    "from os.path import join, exists"
   ]
  },
  {
   "cell_type": "markdown",
   "metadata": {
    "id": "bYOtwHPi_DqZ"
   },
   "source": [
    "#Data loading"
   ]
  },
  {
   "cell_type": "code",
   "execution_count": 25,
   "metadata": {
    "id": "L2l1CYLH7bnC"
   },
   "outputs": [],
   "source": [
    "# -*- coding: utf-8 -*-\n",
    "\n",
    "import codecs\n",
    "\n",
    "def get_basic_phoneme(phoneme):\n",
    "\tif phoneme[-1].isdigit():\n",
    "\t\treturn phoneme[:-1]\n",
    "\treturn phoneme\n",
    "\n",
    "def get_phonemes(phonemes_code):\n",
    "\treturn tuple([get_basic_phoneme(phoneme_code) for phoneme_code in phonemes_code.split(';')])\n",
    "\n",
    "def get_pg_pair(pg_pair_code):\n",
    "\tphonemes_code, grapheme = pg_pair_code.split('>')\n",
    "\treturn (get_phonemes(phonemes_code), grapheme)\n",
    "\n",
    "def get_mapping(mapping_code):\n",
    "\treturn tuple([get_pg_pair(pg_pair_code) for pg_pair_code in mapping_code.split('|')])\n",
    "\n",
    "def read_phonix(input_file_name):\n",
    "\tphonix = []\n",
    "\twith codecs.open(input_file_name, encoding = 'utf-8') as input_file:\n",
    "\t\tfor line in input_file:\n",
    "\t\t\tline = line.strip()\n",
    "\t\t\tif not line: continue\n",
    "\t\t\tword, mapping_code = line.split(' ')\n",
    "\t\t\tphonix.append((word, get_mapping(mapping_code)))\n",
    "\treturn phonix\n",
    "\n",
    "def pg_pair_to_str(pg_pair):\n",
    "\tphonemes, grapheme = pg_pair\n",
    "\treturn '%s>%s' % (';'.join(phonemes), grapheme)\n",
    "\n",
    "def mapping_to_str(mapping):\n",
    "\treturn '|'.join(pg_pair_to_str(pg_pair) for pg_pair in mapping)\n",
    " \n",
    "def read_freq_list(freq_file_name):\n",
    "    wordfreqs = {}\n",
    "    with open(freq_file_name) as input_file:\n",
    "        for line in input_file:\n",
    "            line = line.strip()\n",
    "            word, freq = line.split(' ')\n",
    "            freq = float(freq)\n",
    "            wordfreqs[word] = freq\n",
    "    return wordfreqs\n",
    "\n",
    "def get_pg_freqs(wordfreqs, phonix):\n",
    "    aggregator = defaultdict(float)\n",
    "    for word, mapping in phonix:\n",
    "        if word not in wordfreqs: continue\n",
    "        wordfreq = wordfreqs[word]\n",
    "        for pg in mapping:\n",
    "            aggregator[pg_pair_to_str(pg)] += wordfreq\n",
    "    return normalize(aggregator)\n",
    "\n",
    "def word_pgs(phonix_dict, word):\n",
    "    return [pg_pair_to_str(pg) for pg in phonix_dict[word]]\n",
    "    \n",
    "def observed_pgs(phonix_dict, observations):\n",
    "    pgs = set()\n",
    "    for word, obs in observations:\n",
    "        pgs.update(word_pgs(phonix_dict, word))\n",
    "    return pgs"
   ]
  },
  {
   "cell_type": "code",
   "execution_count": 5,
   "metadata": {
    "id": "cLQ2BAPM7bnC"
   },
   "outputs": [],
   "source": [
    "def normalize(distr):\n",
    "    denominator = sum(distr.values())\n",
    "    return {key: float(value) / denominator for key, value in distr.items()}"
   ]
  },
  {
   "cell_type": "code",
   "execution_count": 6,
   "metadata": {
    "id": "tTZGgcd_7bnC"
   },
   "outputs": [],
   "source": [
    "phonix = read_phonix(join(DATA_PATH, 'phonix.txt'))\n",
    "phonix_dict = dict(phonix)\n",
    "wordfreqs = read_freq_list(join(DATA_PATH, 'word-freqs.txt'))\n",
    "\n",
    "word_list = sorted(list(set(phonix_dict.keys()) & set(wordfreqs.keys() - {'null', 'nan'}))) \n",
    "#Above is because of strange behaviors with DF.\n",
    "\n",
    "pg_freqs = get_pg_freqs(wordfreqs, phonix)\n",
    "\n",
    "pgs = sorted(pg_freqs.keys(), key = lambda pg: pg_freqs[pg], reverse=True)\n",
    "ps = np.array([pg_freqs[pg] for pg in pgs])\n",
    "\n",
    "pg_idx = {pg : i for i, pg in enumerate(pgs)}"
   ]
  },
  {
   "cell_type": "code",
   "execution_count": 26,
   "metadata": {},
   "outputs": [],
   "source": [
    "towre_phonix = read_phonix(join(DATA_PATH, 'towre_phonix.txt'))\n",
    "towre_phonix_dict = dict(towre_phonix)\n",
    "targets = [w for w, m in towre_phonix]"
   ]
  },
  {
   "cell_type": "code",
   "execution_count": 28,
   "metadata": {
    "id": "1lFWjVQaVBUQ"
   },
   "outputs": [],
   "source": [
    "def gen_word2pg_counts(phonix_dict, word_list, pg_idx):\n",
    "  #Some code taken from Ivan's.\n",
    "\n",
    "  counts = []\n",
    "  for word in word_list:\n",
    "\n",
    "    #Identify idx of the pg pairs in word.\n",
    "    the_word_pgs = word_pgs(phonix_dict, word)\n",
    "    the_word_pgs_idx = np.array([pg_idx[pg] for pg in the_word_pgs])\n",
    "\n",
    "    #Convert to one-hot like vector of counts\n",
    "    this_counts = np.bincount(the_word_pgs_idx, minlength = len(pg_idx))\n",
    "    counts.append(this_counts)\n",
    "\n",
    "  return np.stack(counts)\n",
    "\n",
    "word2pg_counts = torch.from_numpy(gen_word2pg_counts(towre_phonix_dict, targets, pg_idx)) #.cuda()"
   ]
  },
  {
   "cell_type": "markdown",
   "metadata": {
    "id": "ky89WdfO_H5c"
   },
   "source": [
    "#Difficulty computation"
   ]
  },
  {
   "cell_type": "code",
   "execution_count": 29,
   "metadata": {
    "id": "URecs1MOk9gH"
   },
   "outputs": [],
   "source": [
    "#12/7: https://www.tensorflow.org/probability\n",
    "#import tensorflow as tf\n",
    "#import tensorflow_probability as tfp"
   ]
  },
  {
   "cell_type": "code",
   "execution_count": 30,
   "metadata": {
    "id": "1Q5-m8BZ7bnD"
   },
   "outputs": [],
   "source": [
    "def _probs_to_word_prob(probs_recall, word2pg_counts_arr):\n",
    "\n",
    "    #Note that if the count for a given pg is zero, the result is 1,\n",
    "    #  which doesn't affect the product as expected.\n",
    "    raw_products = torch.pow(probs_recall, word2pg_counts_arr) #Check idx ordering?\n",
    "    p_pg = torch.prod(raw_products, axis = 1) #Collapse pg, retain words.\n",
    "  \n",
    "    return p_pg\n",
    "    \n",
    "def simulate_child(word_list, prior_mu = np.log(500), prior_sigma = 3):\n",
    "\n",
    "    lr = 0.3\n",
    "\n",
    "    #12/7: https://stackoverflow.com/questions/34097281/convert-a-tensor-to-numpy-array-in-tensorflow\n",
    "    log_n = torch.normal(mean = torch.tensor([float(prior_mu)]), std = torch.tensor([float(prior_sigma)]))\n",
    "    n = int(np.ceil(np.exp(log_n.numpy())))\n",
    "\n",
    "    n_pg_raw = torch.multinomial(torch.from_numpy(ps), n, replacement=True) #Fictional counts only.\n",
    "    n_pg = torch.bincount(n_pg_raw, minlength = ps.shape[0])\n",
    "    \n",
    "    assert torch.sum(n_pg) == n, 'Allocation not correct.'\n",
    "    \n",
    "    #Simulate recalls.\n",
    "    probs_recall = 1 - torch.exp(-lr * n_pg)\n",
    "    words_probs = _probs_to_word_prob(probs_recall, word2pg_counts_arr = word2pg_counts)\n",
    "    recalled = torch.bernoulli(words_probs)\n",
    "    return recalled"
   ]
  },
  {
   "cell_type": "code",
   "execution_count": 45,
   "metadata": {},
   "outputs": [],
   "source": [
    "def account_for_word_variants(word_list):\n",
    "    counter = defaultdict(int)\n",
    "    for word in word_list:\n",
    "        if '(' in word: word = word[:word.find('(')]\n",
    "        counter[word] += 1\n",
    "    agg_word_list = list(sorted(counter.keys()))\n",
    "    total_count = 0\n",
    "    agg_intervals = []\n",
    "    for word in mod_word_list:\n",
    "        cnt = counter[word]\n",
    "        agg_intervals.append((total_count, total_count + cnt))\n",
    "        total_count += cnt\n",
    "    return (agg_word_list, agg_intervals)\n",
    "    "
   ]
  },
  {
   "cell_type": "code",
   "execution_count": 46,
   "metadata": {},
   "outputs": [],
   "source": [
    "agg_word_list, agg_intervals = account_for_word_variants(targets)"
   ]
  },
  {
   "cell_type": "code",
   "execution_count": 50,
   "metadata": {},
   "outputs": [],
   "source": [
    "def account_for_variants(recall, agg_intervals):\n",
    "    agg = torch.zeros(len(agg_intervals), dtype = bool)\n",
    "    for i, (start, end) in enumerate(agg_intervals):\n",
    "        agg[i] = torch.any(recall[start : end].bool())\n",
    "    return agg"
   ]
  },
  {
   "cell_type": "code",
   "execution_count": 51,
   "metadata": {
    "id": "cMQjQIkeA4n-"
   },
   "outputs": [],
   "source": [
    "def repeat_simulation(word_list, agg_intervals, trials):\n",
    "\n",
    "  aggregate = torch.zeros((len(agg_intervals),))\n",
    "\n",
    "  for trial_num in range(trials):\n",
    "    if trial_num % 100 == 0:\n",
    "      print(f'Trial: {trial_num}')\n",
    "    this_child_recall = simulate_child(word_list)\n",
    "    aggregated_recall = account_for_variants(this_child_recall, agg_intervals)\n",
    "    aggregate += aggregated_recall\n",
    "\n",
    "  difficulty = 1 - (aggregate / trials)\n",
    "  return difficulty"
   ]
  },
  {
   "cell_type": "code",
   "execution_count": null,
   "metadata": {},
   "outputs": [],
   "source": []
  },
  {
   "cell_type": "code",
   "execution_count": 52,
   "metadata": {},
   "outputs": [
    {
     "name": "stdout",
     "output_type": "stream",
     "text": [
      "Trial: 0\n",
      "Trial: 100\n",
      "Trial: 200\n",
      "Trial: 300\n",
      "Trial: 400\n",
      "Trial: 500\n",
      "Trial: 600\n",
      "Trial: 700\n",
      "Trial: 800\n",
      "Trial: 900\n",
      "Trial: 1000\n",
      "Trial: 1100\n",
      "Trial: 1200\n",
      "Trial: 1300\n",
      "Trial: 1400\n",
      "Trial: 1500\n",
      "Trial: 1600\n",
      "Trial: 1700\n",
      "Trial: 1800\n",
      "Trial: 1900\n",
      "Trial: 2000\n",
      "Trial: 2100\n",
      "Trial: 2200\n",
      "Trial: 2300\n",
      "Trial: 2400\n",
      "Trial: 2500\n",
      "Trial: 2600\n",
      "Trial: 2700\n",
      "Trial: 2800\n",
      "Trial: 2900\n",
      "Trial: 3000\n",
      "Trial: 3100\n",
      "Trial: 3200\n",
      "Trial: 3300\n",
      "Trial: 3400\n",
      "Trial: 3500\n",
      "Trial: 3600\n",
      "Trial: 3700\n",
      "Trial: 3800\n",
      "Trial: 3900\n",
      "Trial: 4000\n",
      "Trial: 4100\n",
      "Trial: 4200\n",
      "Trial: 4300\n",
      "Trial: 4400\n",
      "Trial: 4500\n",
      "Trial: 4600\n",
      "Trial: 4700\n",
      "Trial: 4800\n",
      "Trial: 4900\n"
     ]
    }
   ],
   "source": [
    "difficulty = repeat_simulation(targets, agg_intervals, 5000) "
   ]
  },
  {
   "cell_type": "code",
   "execution_count": 58,
   "metadata": {},
   "outputs": [],
   "source": [
    "word_difficulty = {agg_word_list[i] : float(difficulty[i]) for i in range(len(agg_word_list))}"
   ]
  },
  {
   "cell_type": "code",
   "execution_count": 63,
   "metadata": {},
   "outputs": [
    {
     "data": {
      "text/plain": [
       "262"
      ]
     },
     "execution_count": 63,
     "metadata": {},
     "output_type": "execute_result"
    }
   ],
   "source": [
    "len(word_difficulty)"
   ]
  },
  {
   "cell_type": "code",
   "execution_count": 61,
   "metadata": {},
   "outputs": [],
   "source": [
    "with open(join(DATA_PATH, \"towre-difficulty-estimate.csv\"), \"w\") as outfile:\n",
    "    print(\"word, difficulty\", file = outfile)\n",
    "    for word in sorted(word_difficulty.keys()):\n",
    "        print(\"%s,%f\" % (word, word_difficulty[word]), file = outfile)"
   ]
  },
  {
   "cell_type": "code",
   "execution_count": 69,
   "metadata": {},
   "outputs": [],
   "source": [
    "def getFormWords(form):\n",
    "    words = []\n",
    "    with open(join(DATA_PATH, \"TOWRE\", \"Form_%s.csv\" % form)) as infile:\n",
    "        for line in infile:\n",
    "            wrd = line[:line.find(\",\")]\n",
    "            if wrd in word_difficulty:\n",
    "                words.append(wrd)\n",
    "    return words"
   ]
  },
  {
   "cell_type": "code",
   "execution_count": 70,
   "metadata": {},
   "outputs": [
    {
     "data": {
      "text/plain": [
       "['ip',\n",
       " 'ga',\n",
       " 'ko',\n",
       " 'ta',\n",
       " 'om',\n",
       " 'ig',\n",
       " 'ni',\n",
       " 'pim',\n",
       " 'wum',\n",
       " 'lat',\n",
       " 'baf',\n",
       " 'din',\n",
       " 'nup',\n",
       " 'fet',\n",
       " 'bave',\n",
       " 'pate',\n",
       " 'herm',\n",
       " 'dess',\n",
       " 'chur',\n",
       " 'knap',\n",
       " 'tive',\n",
       " 'barp',\n",
       " 'stip',\n",
       " 'plin',\n",
       " 'frip',\n",
       " 'poth',\n",
       " 'vasp',\n",
       " 'meest',\n",
       " 'shlee',\n",
       " 'guddy',\n",
       " 'skree',\n",
       " 'felly',\n",
       " 'clirt',\n",
       " 'sline',\n",
       " 'dreef',\n",
       " 'prain',\n",
       " 'zint',\n",
       " 'bloot',\n",
       " 'trisk',\n",
       " 'kelm',\n",
       " 'strone',\n",
       " 'lunaf',\n",
       " 'cratty',\n",
       " 'trober',\n",
       " 'depate',\n",
       " 'glant',\n",
       " 'sploosh',\n",
       " 'dreker',\n",
       " 'ritlun',\n",
       " 'hedfert',\n",
       " 'bremick',\n",
       " 'nifpate',\n",
       " 'brinbert',\n",
       " 'clabom',\n",
       " 'drepnort',\n",
       " 'shrattec',\n",
       " 'plofent',\n",
       " 'smucrit',\n",
       " 'pelnador',\n",
       " 'fornalask',\n",
       " 'fermabalt',\n",
       " 'crenidmoke',\n",
       " 'emulbatate',\n",
       " 'strotalanted',\n",
       " 'prilingdorfent',\n",
       " 'chunfendilt']"
      ]
     },
     "execution_count": 70,
     "metadata": {},
     "output_type": "execute_result"
    }
   ],
   "source": [
    "getFormWords(\"A\")"
   ]
  },
  {
   "cell_type": "code",
   "execution_count": 72,
   "metadata": {},
   "outputs": [
    {
     "data": {
      "image/png": "[encoded data removed]",
      "text/plain": [
       "<Figure size 432x288 with 1 Axes>"
      ]
     },
     "metadata": {
      "needs_background": "light"
     },
     "output_type": "display_data"
    },
    {
     "data": {
      "image/png": "[encoded data removed]",
      "text/plain": [
       "<Figure size 432x288 with 1 Axes>"
      ]
     },
     "metadata": {
      "needs_background": "light"
     },
     "output_type": "display_data"
    },
    {
     "data": {
      "image/png": "[encoded data removed]",
      "text/plain": [
       "<Figure size 432x288 with 1 Axes>"
      ]
     },
     "metadata": {
      "needs_background": "light"
     },
     "output_type": "display_data"
    },
    {
     "data": {
      "image/png": "[encoded data removed]",
      "text/plain": [
       "<Figure size 432x288 with 1 Axes>"
      ]
     },
     "metadata": {
      "needs_background": "light"
     },
     "output_type": "display_data"
    }
   ],
   "source": [
    "for i, form in enumerate([\"A\", \"B\", \"C\", \"D\"]):\n",
    "    form_words = getFormWords(form)\n",
    "    plt.figure(i)\n",
    "    plt.scatter(range(len(form_words)), [word_difficulty[word] for word in form_words])"
   ]
  },
  {
   "cell_type": "markdown",
   "metadata": {
    "id": "SNXr1glZahgl"
   },
   "source": [
    "#Tests"
   ]
  },
  {
   "cell_type": "code",
   "execution_count": 53,
   "metadata": {
    "id": "_XXQZn5FXbfV"
   },
   "outputs": [],
   "source": [
    "def test_gen_word2pg_counts():\n",
    "  test_word_list = ['can', 'cactus']\n",
    "\n",
    "  #Manually from pg_idx and phonix_dict:\n",
    "  #'ʌ>a' -> 15\n",
    "  #'k>c' -> 22\n",
    "  #'n>n' -> 1\n",
    "  #'æ>a' -> 4\n",
    "  #'t>t' -> 0\n",
    "  #'ʌ>u' -> 21\n",
    "  #'s>s' -> 5\n",
    "\n",
    "  actual = gen_word2pg_counts(test_word_list, pg_idx)\n",
    "  list_where_one = [[22, 15, 1], [22, 4, 0, 21, 5]]\n",
    "\n",
    "  expected = []\n",
    "  for where_one in list_where_one:\n",
    "    this_expected = np.zeros(len(pg_idx))\n",
    "    this_expected[where_one] = 1\n",
    "    expected.append(this_expected)\n",
    "\n",
    "  expected[1][22] = 2 #Two k>c in \"cactus\".\n",
    "  expected = np.stack(expected)\n",
    "\n",
    "  assert np.all(actual == expected), 'word2pgcounts function check failed.'"
   ]
  },
  {
   "cell_type": "code",
   "execution_count": 54,
   "metadata": {
    "id": "UcLLGx0uedXJ"
   },
   "outputs": [],
   "source": [
    "def test_probs_to_word_prob():\n",
    "  test_recall_probs = torch.from_numpy(np.array([2., 1., 3.]))\n",
    "  test_counts = torch.from_numpy(np.array([\n",
    "                          [0, 3, 2],\n",
    "                          [1, 1, 0],\n",
    "                          [3, 1, 2]\n",
    "  ]))\n",
    "\n",
    "  expected = torch.Tensor([9, 2, 72])\n",
    "  actual = _probs_to_word_prob(test_recall_probs, test_counts)\n",
    "\n",
    "  assert torch.all(expected == actual), 'probs to word prob test failed'"
   ]
  },
  {
   "cell_type": "code",
   "execution_count": 55,
   "metadata": {
    "colab": {
     "base_uri": "https://localhost:8080/"
    },
    "id": "RswttDWPedvf",
    "outputId": "8f0964eb-ef01-4eee-c951-34d65268dc74"
   },
   "outputs": [
    {
     "name": "stdout",
     "output_type": "stream",
     "text": [
      "Tests passed.\n"
     ]
    }
   ],
   "source": [
    "tests = [\n",
    "         test_gen_word2pg_counts,\n",
    "         test_probs_to_word_prob\n",
    "]\n",
    "\n",
    "for test in tests:\n",
    "  test()\n",
    "\n",
    "print('Tests passed.')"
   ]
  }
 ],
 "metadata": {
  "accelerator": "GPU",
  "colab": {
   "collapsed_sections": [
    "SNXr1glZahgl"
   ],
   "name": "difficulty analysis.ipynb",
   "provenance": [],
   "toc_visible": true
  },
  "kernelspec": {
   "display_name": "Python 3",
   "language": "python",
   "name": "python3"
  },
  "language_info": {
   "codemirror_mode": {
    "name": "ipython",
    "version": 3
   },
   "file_extension": ".py",
   "mimetype": "text/x-python",
   "name": "python",
   "nbconvert_exporter": "python",
   "pygments_lexer": "ipython3",
   "version": "3.7.4"
  }
 },
 "nbformat": 4,
 "nbformat_minor": 1
}
